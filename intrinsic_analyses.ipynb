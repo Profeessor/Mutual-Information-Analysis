{
 "cells": [
  {
   "cell_type": "code",
   "execution_count": 1,
   "metadata": {},
   "outputs": [
    {
     "name": "stdout",
     "output_type": "stream",
     "text": [
      "Index(['Unnamed: 0_s1', 'Experiment_s1', 'v1_mean_s1', 'v2_mean_s1',\n",
      "       'zr_mean_s1', 'a_mean_s1', 'ndt_mean_s1', 'sndt_mean_s1',\n",
      "       'alpha_mean_s1', 'accuracy_percentage_s1', 'mean_log_rt_s1',\n",
      "       'RT_mean_correct_error_s1', 'mean_correct_s1', 'mean_error_s1',\n",
      "       'error_array_s1', 'RT_Cor_arr_s1', 'ID', 'Task_s1', 'Session_s1',\n",
      "       'alpha_shifted_s1', 'alpha_clipped_s1', 'alpha_arcsin_s1',\n",
      "       'alpha_mean_boxcox_after_arcsin_s1', 'accuracy_arcsin_s1',\n",
      "       'accuracy_percentage_boxcox_after_arcsin_s1', 'Unnamed: 0_s2',\n",
      "       'Experiment_s2', 'v1_mean_s2', 'v2_mean_s2', 'zr_mean_s2', 'a_mean_s2',\n",
      "       'ndt_mean_s2', 'sndt_mean_s2', 'alpha_mean_s2',\n",
      "       'accuracy_percentage_s2', 'mean_log_rt_s2', 'RT_mean_correct_error_s2',\n",
      "       'mean_correct_s2', 'mean_error_s2', 'error_array_s2', 'RT_Cor_arr_s2',\n",
      "       'Task_s2', 'Session_s2', 'alpha_shifted_s2', 'alpha_clipped_s2',\n",
      "       'alpha_arcsin_s2', 'alpha_mean_boxcox_after_arcsin_s2',\n",
      "       'accuracy_arcsin_s2', 'accuracy_percentage_boxcox_after_arcsin_s2'],\n",
      "      dtype='object')\n"
     ]
    }
   ],
   "source": [
    "import pandas as pd\n",
    "df_s1 = pd.read_csv('Model1 LDT RMT/ldt_session_1_data_transformed.csv')\n",
    "df_s2 = pd.read_csv('Model1 LDT RMT/ldt_session_2_data_transformed.csv')\n",
    "\n",
    "df_merged = pd.merge(df_s1, df_s2, on=\"ID\", suffixes=(\"_s1\",\"_s2\"))\n",
    "df_merged.dropna(inplace=True)  # remove incomplete rows if needed\n",
    "\n",
    "print(df_merged.columns)\n"
   ]
  },
  {
   "cell_type": "code",
   "execution_count": 4,
   "metadata": {},
   "outputs": [
    {
     "ename": "KeyError",
     "evalue": "'Variables 1 are missing from data.'",
     "output_type": "error",
     "traceback": [
      "\u001b[0;31m---------------------------------------------------------------------------\u001b[0m",
      "\u001b[0;31mKeyError\u001b[0m                                  Traceback (most recent call last)",
      "Cell \u001b[0;32mIn[4], line 28\u001b[0m\n\u001b[1;32m     26\u001b[0m \u001b[38;5;66;03m# Fit the model:\u001b[39;00m\n\u001b[1;32m     27\u001b[0m model \u001b[38;5;241m=\u001b[39m semopy\u001b[38;5;241m.\u001b[39mModel(model_desc)\n\u001b[0;32m---> 28\u001b[0m res \u001b[38;5;241m=\u001b[39m \u001b[43mmodel\u001b[49m\u001b[38;5;241;43m.\u001b[39;49m\u001b[43mfit\u001b[49m\u001b[43m(\u001b[49m\u001b[43mdf_merged\u001b[49m\u001b[43m)\u001b[49m\n\u001b[1;32m     30\u001b[0m \u001b[38;5;66;03m# Inspect results:\u001b[39;00m\n\u001b[1;32m     31\u001b[0m \u001b[38;5;28mprint\u001b[39m(model\u001b[38;5;241m.\u001b[39minspect())\n",
      "File \u001b[0;32m/opt/anaconda3/envs/myenv/lib/python3.8/site-packages/semopy/model.py:1097\u001b[0m, in \u001b[0;36mModel.fit\u001b[0;34m(self, data, cov, obj, solver, groups, clean_slate, regularization, n_samples, **kwargs)\u001b[0m\n\u001b[1;32m   1054\u001b[0m \u001b[38;5;28;01mdef\u001b[39;00m \u001b[38;5;21mfit\u001b[39m(\u001b[38;5;28mself\u001b[39m, data\u001b[38;5;241m=\u001b[39m\u001b[38;5;28;01mNone\u001b[39;00m, cov\u001b[38;5;241m=\u001b[39m\u001b[38;5;28;01mNone\u001b[39;00m, obj\u001b[38;5;241m=\u001b[39m\u001b[38;5;124m'\u001b[39m\u001b[38;5;124mMLW\u001b[39m\u001b[38;5;124m'\u001b[39m, solver\u001b[38;5;241m=\u001b[39m\u001b[38;5;124m'\u001b[39m\u001b[38;5;124mSLSQP\u001b[39m\u001b[38;5;124m'\u001b[39m, groups\u001b[38;5;241m=\u001b[39m\u001b[38;5;28;01mNone\u001b[39;00m,\n\u001b[1;32m   1055\u001b[0m         clean_slate\u001b[38;5;241m=\u001b[39m\u001b[38;5;28;01mFalse\u001b[39;00m, regularization\u001b[38;5;241m=\u001b[39m\u001b[38;5;28;01mNone\u001b[39;00m, n_samples\u001b[38;5;241m=\u001b[39m\u001b[38;5;28;01mNone\u001b[39;00m, \u001b[38;5;241m*\u001b[39m\u001b[38;5;241m*\u001b[39mkwargs):\n\u001b[1;32m   1056\u001b[0m \u001b[38;5;250m    \u001b[39m\u001b[38;5;124;03m\"\"\"\u001b[39;00m\n\u001b[1;32m   1057\u001b[0m \u001b[38;5;124;03m    Fit model to data.\u001b[39;00m\n\u001b[1;32m   1058\u001b[0m \n\u001b[0;32m   (...)\u001b[0m\n\u001b[1;32m   1095\u001b[0m \n\u001b[1;32m   1096\u001b[0m \u001b[38;5;124;03m    \"\"\"\u001b[39;00m\n\u001b[0;32m-> 1097\u001b[0m     \u001b[38;5;28;43mself\u001b[39;49m\u001b[38;5;241;43m.\u001b[39;49m\u001b[43mload\u001b[49m\u001b[43m(\u001b[49m\u001b[43mdata\u001b[49m\u001b[38;5;241;43m=\u001b[39;49m\u001b[43mdata\u001b[49m\u001b[43m,\u001b[49m\u001b[43m \u001b[49m\u001b[43mcov\u001b[49m\u001b[38;5;241;43m=\u001b[39;49m\u001b[43mcov\u001b[49m\u001b[43m,\u001b[49m\u001b[43m \u001b[49m\u001b[43mgroups\u001b[49m\u001b[38;5;241;43m=\u001b[39;49m\u001b[43mgroups\u001b[49m\u001b[43m,\u001b[49m\n\u001b[1;32m   1098\u001b[0m \u001b[43m              \u001b[49m\u001b[43mclean_slate\u001b[49m\u001b[38;5;241;43m=\u001b[39;49m\u001b[43mclean_slate\u001b[49m\u001b[43m,\u001b[49m\u001b[43m \u001b[49m\u001b[43mn_samples\u001b[49m\u001b[38;5;241;43m=\u001b[39;49m\u001b[43mn_samples\u001b[49m\u001b[43m)\u001b[49m\n\u001b[1;32m   1099\u001b[0m     \u001b[38;5;28;01mif\u001b[39;00m obj \u001b[38;5;241m==\u001b[39m \u001b[38;5;124m'\u001b[39m\u001b[38;5;124mFIML\u001b[39m\u001b[38;5;124m'\u001b[39m:\n\u001b[1;32m   1100\u001b[0m         \u001b[38;5;28;01mif\u001b[39;00m \u001b[38;5;129;01mnot\u001b[39;00m \u001b[38;5;28mhasattr\u001b[39m(\u001b[38;5;28mself\u001b[39m, \u001b[38;5;124m'\u001b[39m\u001b[38;5;124mmx_data\u001b[39m\u001b[38;5;124m'\u001b[39m):\n",
      "File \u001b[0;32m/opt/anaconda3/envs/myenv/lib/python3.8/site-packages/semopy/model.py:1036\u001b[0m, in \u001b[0;36mModel.load\u001b[0;34m(self, data, cov, groups, clean_slate, n_samples)\u001b[0m\n\u001b[1;32m   1034\u001b[0m \u001b[38;5;28;01mif\u001b[39;00m missing:\n\u001b[1;32m   1035\u001b[0m     t \u001b[38;5;241m=\u001b[39m \u001b[38;5;124m'\u001b[39m\u001b[38;5;124m, \u001b[39m\u001b[38;5;124m'\u001b[39m\u001b[38;5;241m.\u001b[39mjoin(missing)\n\u001b[0;32m-> 1036\u001b[0m     \u001b[38;5;28;01mraise\u001b[39;00m \u001b[38;5;167;01mKeyError\u001b[39;00m(\u001b[38;5;124m'\u001b[39m\u001b[38;5;124mVariables \u001b[39m\u001b[38;5;132;01m{}\u001b[39;00m\u001b[38;5;124m are missing from data.\u001b[39m\u001b[38;5;124m'\u001b[39m\u001b[38;5;241m.\u001b[39mformat(t))\n\u001b[1;32m   1037\u001b[0m \u001b[38;5;28;01mif\u001b[39;00m data \u001b[38;5;129;01mis\u001b[39;00m \u001b[38;5;129;01mnot\u001b[39;00m \u001b[38;5;28;01mNone\u001b[39;00m:\n\u001b[1;32m   1038\u001b[0m     \u001b[38;5;28mself\u001b[39m\u001b[38;5;241m.\u001b[39mload_data(data, covariance\u001b[38;5;241m=\u001b[39mcov, groups\u001b[38;5;241m=\u001b[39mgroups)\n",
      "\u001b[0;31mKeyError\u001b[0m: 'Variables 1 are missing from data.'"
     ]
    }
   ],
   "source": [
    "import semopy\n",
    "\n",
    "# We'll define:\n",
    "#   - A latent factor:  eta_alpha\n",
    "#   - Two observed indicators: alpha_s1, alpha_s2\n",
    "#   - Freed loadings, intercepts, and residuals (unique factors)\n",
    "\n",
    "model_desc = \"\"\"\n",
    "# 1) Define the latent trait factor (eta_alpha) measured by alpha_s1, alpha_s2\n",
    "#    The operator '=~' says that \"eta_alpha\" is measured by these indicators.\n",
    "eta_alpha =~ alpha_mean_boxcox_after_arcsin_s1 + alpha_mean_boxcox_after_arcsin_s2\n",
    "\n",
    "# 2) Residual variances (unique factors) for each indicator\n",
    "alpha_mean_boxcox_after_arcsin_s1 ~~ alpha_mean_boxcox_after_arcsin_s1\n",
    "alpha_mean_boxcox_after_arcsin_s2 ~~ alpha_mean_boxcox_after_arcsin_s2\n",
    "\n",
    "# 3) Means/intercepts\n",
    "alpha_mean_boxcox_after_arcsin_s1 ~ 1\n",
    "alpha_mean_boxcox_after_arcsin_s2 ~ 1\n",
    "\n",
    "# 4) The latent factor can have a variance & mean (freely estimated)\n",
    "eta_alpha ~ 1\n",
    "eta_alpha ~~ eta_alpha\n",
    "\"\"\"\n",
    "\n",
    "# Fit the model:\n",
    "model = semopy.Model(model_desc)\n",
    "res = model.fit(df_merged)\n",
    "\n",
    "# Inspect results:\n",
    "print(model.inspect())\n",
    "print(model.summary())\n"
   ]
  },
  {
   "cell_type": "code",
   "execution_count": 3,
   "metadata": {},
   "outputs": [
    {
     "name": "stdout",
     "output_type": "stream",
     "text": [
      "Collecting semopy\n",
      "  Downloading semopy-2.3.11.tar.gz (1.6 MB)\n",
      "\u001b[2K     \u001b[90m━━━━━━━━━━━━━━━━━━━━━━━━━━━━━━━━━━━━━━━━\u001b[0m \u001b[32m1.6/1.6 MB\u001b[0m \u001b[31m2.3 MB/s\u001b[0m eta \u001b[36m0:00:00\u001b[0ma \u001b[36m0:00:01\u001b[0m0m\n",
      "\u001b[?25h  Preparing metadata (setup.py) ... \u001b[?25ldone\n",
      "\u001b[?25hRequirement already satisfied: scipy in /opt/anaconda3/envs/myenv/lib/python3.8/site-packages (from semopy) (1.10.1)\n",
      "Requirement already satisfied: numpy in /opt/anaconda3/envs/myenv/lib/python3.8/site-packages (from semopy) (1.22.1)\n",
      "Requirement already satisfied: pandas in /opt/anaconda3/envs/myenv/lib/python3.8/site-packages (from semopy) (2.0.3)\n",
      "Requirement already satisfied: sympy in /opt/anaconda3/envs/myenv/lib/python3.8/site-packages (from semopy) (1.13.3)\n",
      "Requirement already satisfied: scikit-learn in /opt/anaconda3/envs/myenv/lib/python3.8/site-packages (from semopy) (1.3.2)\n",
      "Requirement already satisfied: statsmodels in /opt/anaconda3/envs/myenv/lib/python3.8/site-packages (from semopy) (0.14.1)\n",
      "Collecting numdifftools (from semopy)\n",
      "  Downloading numdifftools-0.9.41-py2.py3-none-any.whl.metadata (39 kB)\n",
      "Requirement already satisfied: python-dateutil>=2.8.2 in /opt/anaconda3/envs/myenv/lib/python3.8/site-packages (from pandas->semopy) (2.8.2)\n",
      "Requirement already satisfied: pytz>=2020.1 in /opt/anaconda3/envs/myenv/lib/python3.8/site-packages (from pandas->semopy) (2023.3.post1)\n",
      "Requirement already satisfied: tzdata>=2022.1 in /opt/anaconda3/envs/myenv/lib/python3.8/site-packages (from pandas->semopy) (2023.3)\n",
      "Requirement already satisfied: joblib>=1.1.1 in /opt/anaconda3/envs/myenv/lib/python3.8/site-packages (from scikit-learn->semopy) (1.3.2)\n",
      "Requirement already satisfied: threadpoolctl>=2.0.0 in /opt/anaconda3/envs/myenv/lib/python3.8/site-packages (from scikit-learn->semopy) (3.2.0)\n",
      "Requirement already satisfied: patsy>=0.5.4 in /opt/anaconda3/envs/myenv/lib/python3.8/site-packages (from statsmodels->semopy) (0.5.4)\n",
      "Requirement already satisfied: packaging>=21.3 in /opt/anaconda3/envs/myenv/lib/python3.8/site-packages (from statsmodels->semopy) (23.2)\n",
      "Requirement already satisfied: mpmath<1.4,>=1.1.0 in /opt/anaconda3/envs/myenv/lib/python3.8/site-packages (from sympy->semopy) (1.3.0)\n",
      "Requirement already satisfied: six in /opt/anaconda3/envs/myenv/lib/python3.8/site-packages (from patsy>=0.5.4->statsmodels->semopy) (1.16.0)\n",
      "Downloading numdifftools-0.9.41-py2.py3-none-any.whl (100 kB)\n",
      "\u001b[2K   \u001b[90m━━━━━━━━━━━━━━━━━━━━━━━━━━━━━━━━━━━━━━━\u001b[0m \u001b[32m100.2/100.2 kB\u001b[0m \u001b[31m737.1 kB/s\u001b[0m eta \u001b[36m0:00:00\u001b[0ma \u001b[36m0:00:01\u001b[0m\n",
      "\u001b[?25hBuilding wheels for collected packages: semopy\n",
      "  Building wheel for semopy (setup.py) ... \u001b[?25ldone\n",
      "\u001b[?25h  Created wheel for semopy: filename=semopy-2.3.11-py3-none-any.whl size=1659680 sha256=904e01348125333442b118427171cf125f7688fea89f03360e60f130857dec88\n",
      "  Stored in directory: /Users/ebrahimi/Library/Caches/pip/wheels/a3/ca/da/faac6d40de9ba26e4bf9b2cd9d36aa3e29229f2fe725dc429e\n",
      "Successfully built semopy\n",
      "Installing collected packages: numdifftools, semopy\n",
      "Successfully installed numdifftools-0.9.41 semopy-2.3.11\n"
     ]
    }
   ],
   "source": [
    "import semopy\n",
    "\n",
    "# We'll define:\n",
    "#   - A latent factor:  eta_alpha\n",
    "#   - Two observed indicators: alpha_s1, alpha_s2\n",
    "#   - Freed loadings, intercepts, and residuals (unique factors)\n",
    "\n",
    "model_desc = \"\"\"\n",
    "# 1) Define the latent trait factor (eta_alpha) measured by alpha_s1, alpha_s2\n",
    "#    The operator '=~' says that \"eta_alpha\" is measured by these indicators.\n",
    "eta_alpha =~ alpha_mean_boxcox_after_arcsin_s1 + alpha_mean_boxcox_after_arcsin_s2\n",
    "\n",
    "# 2) Residual variances (unique factors) for each indicator\n",
    "alpha_mean_boxcox_after_arcsin_s1 ~~ alpha_mean_boxcox_after_arcsin_s1\n",
    "alpha_mean_boxcox_after_arcsin_s2 ~~ alpha_mean_boxcox_after_arcsin_s2\n",
    "\n",
    "# 3) Means/intercepts\n",
    "alpha_mean_boxcox_after_arcsin_s1 ~ 1\n",
    "alpha_mean_boxcox_after_arcsin_s2 ~ 1\n",
    "\n",
    "# 4) The latent factor can have a variance & mean (freely estimated)\n",
    "eta_alpha ~ 1\n",
    "eta_alpha ~~ eta_alpha\n",
    "\"\"\"\n",
    "\n",
    "# Fit the model:\n",
    "model = semopy.Model(model_desc)\n",
    "res = model.fit(df_merged)\n",
    "\n",
    "# Inspect results:\n",
    "print(model.inspect())\n",
    "print(model.summary())\n"
   ]
  },
  {
   "cell_type": "code",
   "execution_count": null,
   "metadata": {},
   "outputs": [],
   "source": []
  }
 ],
 "metadata": {
  "kernelspec": {
   "display_name": "myenv",
   "language": "python",
   "name": "python3"
  },
  "language_info": {
   "codemirror_mode": {
    "name": "ipython",
    "version": 3
   },
   "file_extension": ".py",
   "mimetype": "text/x-python",
   "name": "python",
   "nbconvert_exporter": "python",
   "pygments_lexer": "ipython3",
   "version": "3.8.18"
  }
 },
 "nbformat": 4,
 "nbformat_minor": 2
}
